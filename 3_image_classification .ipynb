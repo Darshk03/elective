{
 "cells": [
  {
   "cell_type": "code",
   "execution_count": 1,
   "id": "751fac8f-4931-4f02-aafa-0326f5778023",
   "metadata": {},
   "outputs": [],
   "source": [
    "import numpy as np\n",
    "import tensorflow as tf\n",
    "from tensorflow.keras.datasets import cifar10\n",
    "from tensorflow.keras.models import Sequential\n",
    "from tensorflow.keras.layers import Conv2D,MaxPooling2D, Flatten, Dense, Dropout\n",
    "from tensorflow.keras.optimizers import Adam,SGD\n",
    "from tensorflow.keras.utils import to_categorical\n",
    "from sklearn.metrics import confusion_matrix"
   ]
  },
  {
   "cell_type": "code",
   "execution_count": 2,
   "id": "bcbd7b78-4243-412f-88b0-be7e3b63ac32",
   "metadata": {},
   "outputs": [],
   "source": [
    "#load and preprocess\n",
    "(x_train,y_train),(x_test,y_test)= cifar10.load_data()\n",
    "x_train=x_train/255.0\n",
    "x_test=x_test/255.0\n",
    "y_train=to_categorical(y_train,10)\n",
    "y_test=to_categorical(y_test,10)"
   ]
  },
  {
   "cell_type": "code",
   "execution_count": 3,
   "id": "634fd252-4a83-4c62-acc9-9c4f45b57d40",
   "metadata": {},
   "outputs": [
    {
     "name": "stderr",
     "output_type": "stream",
     "text": [
      "C:\\Users\\Shruti Jadhav\\AppData\\Local\\Programs\\Python\\Python310\\lib\\site-packages\\keras\\src\\layers\\convolutional\\base_conv.py:107: UserWarning: Do not pass an `input_shape`/`input_dim` argument to a layer. When using Sequential models, prefer using an `Input(shape)` object as the first layer in the model instead.\n",
      "  super().__init__(activity_regularizer=activity_regularizer, **kwargs)\n"
     ]
    },
    {
     "name": "stdout",
     "output_type": "stream",
     "text": [
      "Epoch 1/5\n",
      "\u001b[1m704/704\u001b[0m \u001b[32m━━━━━━━━━━━━━━━━━━━━\u001b[0m\u001b[37m\u001b[0m \u001b[1m13s\u001b[0m 16ms/step - accuracy: 0.2679 - loss: 1.9636 - val_accuracy: 0.4782 - val_loss: 1.4624\n",
      "Epoch 2/5\n",
      "\u001b[1m704/704\u001b[0m \u001b[32m━━━━━━━━━━━━━━━━━━━━\u001b[0m\u001b[37m\u001b[0m \u001b[1m10s\u001b[0m 14ms/step - accuracy: 0.4679 - loss: 1.4620 - val_accuracy: 0.5618 - val_loss: 1.2531\n",
      "Epoch 3/5\n",
      "\u001b[1m704/704\u001b[0m \u001b[32m━━━━━━━━━━━━━━━━━━━━\u001b[0m\u001b[37m\u001b[0m \u001b[1m10s\u001b[0m 14ms/step - accuracy: 0.5245 - loss: 1.3388 - val_accuracy: 0.6120 - val_loss: 1.1457\n",
      "Epoch 4/5\n",
      "\u001b[1m704/704\u001b[0m \u001b[32m━━━━━━━━━━━━━━━━━━━━\u001b[0m\u001b[37m\u001b[0m \u001b[1m10s\u001b[0m 14ms/step - accuracy: 0.5508 - loss: 1.2527 - val_accuracy: 0.6440 - val_loss: 1.0899\n",
      "Epoch 5/5\n",
      "\u001b[1m704/704\u001b[0m \u001b[32m━━━━━━━━━━━━━━━━━━━━\u001b[0m\u001b[37m\u001b[0m \u001b[1m10s\u001b[0m 14ms/step - accuracy: 0.5773 - loss: 1.1968 - val_accuracy: 0.6598 - val_loss: 1.0004\n",
      "\u001b[1m313/313\u001b[0m \u001b[32m━━━━━━━━━━━━━━━━━━━━\u001b[0m\u001b[37m\u001b[0m \u001b[1m1s\u001b[0m 3ms/step - accuracy: 0.6445 - loss: 1.0161\n",
      "Test Accuracy: 0.6482999920845032\n"
     ]
    }
   ],
   "source": [
    "# CNN WITH hyperparameter tuned\n",
    "learning_rate=0.001\n",
    "dropout_rate=0.4\n",
    "optimizer=Adam(learning_rate=learning_rate)\n",
    "filter_size=(3,3)\n",
    "num_filters=32\n",
    "\n",
    "#CNN\n",
    "model = Sequential([\n",
    "    Conv2D(num_filters,filter_size,activation='relu',input_shape=(32,32,3)),\n",
    "    MaxPooling2D(2,2),\n",
    "    Dropout(dropout_rate),\n",
    "    \n",
    "    Conv2D(64, filter_size, activation='relu'),\n",
    "    MaxPooling2D(2, 2),\n",
    "    Dropout(dropout_rate),\n",
    "    \n",
    "    Flatten(),\n",
    "    Dense(128,activation='relu'),\n",
    "    Dropout(dropout_rate),\n",
    "    Dense(10,activation='softmax') #10 classes\n",
    "    \n",
    "])\n",
    "\n",
    "#compile\n",
    "model.compile(optimizer=optimizer, loss='categorical_crossentropy', metrics=['accuracy'])\n",
    "model.fit(x_train, y_train, epochs=5, batch_size=64, validation_split=0.1)\n",
    "\n",
    "#evaluate\n",
    "loss, acc = model.evaluate(x_test, y_test)\n",
    "print(\"Test Accuracy:\", acc)\n"
   ]
  },
  {
   "cell_type": "code",
   "execution_count": null,
   "id": "622e6c1e-0b27-4cd0-bcce-757bddd04d5b",
   "metadata": {},
   "outputs": [],
   "source": []
  },
  {
   "cell_type": "code",
   "execution_count": null,
   "id": "c49d34f5-a832-4399-a4c5-960445611abd",
   "metadata": {},
   "outputs": [],
   "source": []
  },
  {
   "cell_type": "code",
   "execution_count": null,
   "id": "fd9c228d-e887-49fc-a537-17b7c88b82e5",
   "metadata": {},
   "outputs": [],
   "source": []
  }
 ],
 "metadata": {
  "kernelspec": {
   "display_name": "Python 3 (ipykernel)",
   "language": "python",
   "name": "python3"
  },
  "language_info": {
   "codemirror_mode": {
    "name": "ipython",
    "version": 3
   },
   "file_extension": ".py",
   "mimetype": "text/x-python",
   "name": "python",
   "nbconvert_exporter": "python",
   "pygments_lexer": "ipython3",
   "version": "3.10.5"
  }
 },
 "nbformat": 4,
 "nbformat_minor": 5
}
