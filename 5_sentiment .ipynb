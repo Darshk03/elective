{
 "cells": [
  {
   "cell_type": "code",
   "execution_count": 1,
   "id": "b431146a-ab27-4725-98f1-4cce29743e0c",
   "metadata": {},
   "outputs": [],
   "source": [
    "import tensorflow as tf\n",
    "from tensorflow.keras.datasets import imdb\n",
    "from tensorflow.keras.preprocessing.sequence import pad_sequences\n",
    "from tensorflow.keras.models import Sequential\n",
    "from tensorflow.keras.layers import Embedding,SimpleRNN,Dense\n"
   ]
  },
  {
   "cell_type": "code",
   "execution_count": 2,
   "id": "7c7a145b-39f1-4b55-8f5c-84dd1fc49d47",
   "metadata": {},
   "outputs": [],
   "source": [
    "#load dataaa\n",
    "(x_train,y_train),(x_test,y_test)=imdb.load_data(num_words=10000)\n"
   ]
  },
  {
   "cell_type": "code",
   "execution_count": 3,
   "id": "97ce3149-6075-4740-88f9-7e7bb4ee396e",
   "metadata": {},
   "outputs": [],
   "source": [
    "# pad_sequences\n",
    "x_train = pad_sequences(x_train,maxlen=200)\n",
    "x_test = pad_sequences(x_test,maxlen=200)"
   ]
  },
  {
   "cell_type": "code",
   "execution_count": 4,
   "id": "b4bcdcd8-6d3f-4067-b48b-f92bea61b29d",
   "metadata": {},
   "outputs": [
    {
     "name": "stdout",
     "output_type": "stream",
     "text": [
      "Epoch 1/3\n"
     ]
    },
    {
     "name": "stderr",
     "output_type": "stream",
     "text": [
      "C:\\Users\\Shruti Jadhav\\AppData\\Local\\Programs\\Python\\Python310\\lib\\site-packages\\keras\\src\\layers\\core\\embedding.py:90: UserWarning: Argument `input_length` is deprecated. Just remove it.\n",
      "  warnings.warn(\n"
     ]
    },
    {
     "name": "stdout",
     "output_type": "stream",
     "text": [
      "\u001b[1m313/313\u001b[0m \u001b[32m━━━━━━━━━━━━━━━━━━━━\u001b[0m\u001b[37m\u001b[0m \u001b[1m10s\u001b[0m 29ms/step - accuracy: 0.5515 - loss: 0.6719 - val_accuracy: 0.7742 - val_loss: 0.4751\n",
      "Epoch 2/3\n",
      "\u001b[1m313/313\u001b[0m \u001b[32m━━━━━━━━━━━━━━━━━━━━\u001b[0m\u001b[37m\u001b[0m \u001b[1m9s\u001b[0m 28ms/step - accuracy: 0.8168 - loss: 0.4146 - val_accuracy: 0.8242 - val_loss: 0.4458\n",
      "Epoch 3/3\n",
      "\u001b[1m313/313\u001b[0m \u001b[32m━━━━━━━━━━━━━━━━━━━━\u001b[0m\u001b[37m\u001b[0m \u001b[1m9s\u001b[0m 28ms/step - accuracy: 0.8823 - loss: 0.2917 - val_accuracy: 0.8250 - val_loss: 0.4027\n"
     ]
    },
    {
     "data": {
      "text/plain": [
       "<keras.src.callbacks.history.History at 0x1b8e08220b0>"
      ]
     },
     "execution_count": 4,
     "metadata": {},
     "output_type": "execute_result"
    }
   ],
   "source": [
    "#RNN\n",
    "model = Sequential([\n",
    "    Embedding(input_dim=10000,output_dim=32,input_length=200),\n",
    "    SimpleRNN(64),\n",
    "    Dense(1,activation='sigmoid') # binary sentiment\n",
    "])\n",
    "#compile and train\n",
    "model.compile(optimizer='adam',loss='binary_crossentropy',metrics=['accuracy'])\n",
    "model.fit(x_train,y_train,epochs=3,batch_size=64,validation_split=0.2)"
   ]
  },
  {
   "cell_type": "code",
   "execution_count": 5,
   "id": "56fe89c1-2832-4320-8101-7f9c99b363ef",
   "metadata": {},
   "outputs": [
    {
     "name": "stdout",
     "output_type": "stream",
     "text": [
      "\u001b[1m782/782\u001b[0m \u001b[32m━━━━━━━━━━━━━━━━━━━━\u001b[0m\u001b[37m\u001b[0m \u001b[1m6s\u001b[0m 7ms/step - accuracy: 0.8288 - loss: 0.3985\n",
      "Test Accuracy=  0.8306000232696533\n"
     ]
    }
   ],
   "source": [
    "# Evaluate\n",
    "loss,acc=model.evaluate(x_test,y_test)\n",
    "print('Test Accuracy= ',acc)"
   ]
  },
  {
   "cell_type": "code",
   "execution_count": 6,
   "id": "7ba3eb8f-2d38-4629-adc0-d198eadb9f3d",
   "metadata": {},
   "outputs": [
    {
     "name": "stdout",
     "output_type": "stream",
     "text": [
      "\u001b[1m1/1\u001b[0m \u001b[32m━━━━━━━━━━━━━━━━━━━━\u001b[0m\u001b[37m\u001b[0m \u001b[1m0s\u001b[0m 112ms/step\n",
      "Predicted Sentiment: Negative 😞\n"
     ]
    }
   ],
   "source": [
    "# Pick one review from test set\n",
    "sample = x_test[0]  # Already padded\n",
    "\n",
    "# Predict\n",
    "prediction = model.predict(sample.reshape(1, 200))[0][0]\n",
    "print(\"Predicted Sentiment:\", \"Positive 😊\" if prediction > 0.5 else \"Negative 😞\")"
   ]
  },
  {
   "cell_type": "code",
   "execution_count": null,
   "id": "910c3cd2-4c44-459c-80f9-12adc696a4ef",
   "metadata": {},
   "outputs": [],
   "source": []
  }
 ],
 "metadata": {
  "kernelspec": {
   "display_name": "Python 3 (ipykernel)",
   "language": "python",
   "name": "python3"
  },
  "language_info": {
   "codemirror_mode": {
    "name": "ipython",
    "version": 3
   },
   "file_extension": ".py",
   "mimetype": "text/x-python",
   "name": "python",
   "nbconvert_exporter": "python",
   "pygments_lexer": "ipython3",
   "version": "3.10.5"
  }
 },
 "nbformat": 4,
 "nbformat_minor": 5
}
